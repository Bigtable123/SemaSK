{
 "cells": [
  {
   "cell_type": "code",
   "execution_count": null,
   "metadata": {},
   "outputs": [],
   "source": [
    "import pandas as pd\n",
    "import os\n",
    "from langchain_openai import ChatOpenAI\n",
    "import ast\n",
    "import requests\n",
    "import time\n",
    "import numpy as np\n",
    "from pathlib import Path\n",
    "import re\n",
    "import requests\n",
    "from tqdm import tqdm"
   ]
  },
  {
   "cell_type": "code",
   "execution_count": null,
   "metadata": {},
   "outputs": [],
   "source": [
    "# Insert your own openai api key \n",
    "os.environ[\"OPENAI_API_KEY\"] = \"your_api_key\"\n",
    "\n",
    "output_file = \"yelp_query_p.csv\" # where to save data"
   ]
  },
  {
   "cell_type": "code",
   "execution_count": null,
   "metadata": {},
   "outputs": [],
   "source": [
    "template = \"\"\" You are an expert in spatial keyword searching and I am now trying to perform spatial keyword searching using a large language model. In order to get a test set, I need you to help me write query questions based on the information I provide. In particular, I am asking to think of some questions that are difficult to answer with traditional keyword matching techniques, but are conveniently solved by the semantic techniques of the large language model, such as Find Japanese restaurants in Center City that offer a variety of sushi options, a query in which Japanese restaurants and sushi in this query can be easily solved by keyword matching, but a variety of options may require semantic techniques, and I need questions that are best solved only by semantic techniques. Also, please don't mention any location information in the query!\n",
    "\n",
    "information: Pep Boys is located at Lafayette Road and primarily serves the category of Automotive, Tires, Oil Change Stations, Auto Parts & Supplies, Auto Repair. It is open for business at these hours: ['Monday': '8:0-19:0', 'Tuesday': '8:0-19:0', 'Wednesday': '8:0-19:0', 'Thursday': '8:0-19:0', 'Friday': '8:0-19:0', 'Saturday': '8:0-19:0', 'Sunday': '9:0-17:0']. Customers often highlight: 'The reviews consistently praise the staff for being friendly, knowledgeable, and helpful, creating a positive and welcoming atmosphere for customers.' which suggests it's a popular choice among visitor\n",
    "question: My car needs repairs. Which service center is the most reliable?\n",
    "\n",
    "information: Biscuits Cafe is located at Broad Ripple Avenue, Broad Ripple and primarily serves the category of Restaurants, Mexican, Breakfast & Brunch. It is open for business at these hours: ['Monday': '7:0-15:0', 'Tuesday': '7:0-15:0', 'Wednesday': '7:0-15:0', 'Thursday': '7:0-15:0', 'Friday': '7:0-15:0', 'Saturday': '7:0-15:0', 'Sunday': '7:0-15:0']. Customers often highlight: 'Customers rave about the fast-paced and eventful experience at this breakfast spot in Indy, praising dishes like spicy biscuits and gravy, tamales, steak tacos, chilaquiles, breakfast chimichanga, and Mexican omelet. The use of Ribeye for the meat and the authentic Mexican take on favorites are highlighted. The restaurant is known for its friendly staff, quick service, and generous portions at great prices. However, there are mentions of high prices, occasional closures, and mixed reviews on items like biscuits and gravy. Overall, it's a popular choice for those seeking a vibrant breakfast or brunch spot with a Mexican flair.' which suggests it's a popular choice among visitors.\n",
    "question: Is there a place where I can try authentic Mexican food?\n",
    "\n",
    "now it is your turn.\n",
    "information: {input}\n",
    "question: \n",
    "\"\"\"\n",
    "\n",
    "# question = \"\"\" now it is your turn.\n",
    "# information: {input}\n",
    "# question: \n",
    "# \"\"\""
   ]
  },
  {
   "cell_type": "code",
   "execution_count": null,
   "metadata": {},
   "outputs": [],
   "source": [
    "from langchain.prompts import (\n",
    "    ChatPromptTemplate,\n",
    "    SystemMessagePromptTemplate,\n",
    "    HumanMessagePromptTemplate,\n",
    ")\n",
    "\n",
    "from langchain_core.output_parsers import StrOutputParser\n",
    "output_parser = StrOutputParser()\n",
    "\n",
    "\n",
    "# system_message_prompt = SystemMessagePromptTemplate.from_template(template)\n",
    "human_message_prompt = HumanMessagePromptTemplate.from_template(template)\n",
    "prompt_template = ChatPromptTemplate.from_messages([human_message_prompt])\n",
    "output_parser = StrOutputParser()\n",
    "\n",
    "llm = ChatOpenAI(temperature=1, model=\"o1-mini\")\n",
    "chain = prompt_template | llm | output_parser"
   ]
  },
  {
   "cell_type": "code",
   "execution_count": null,
   "metadata": {},
   "outputs": [],
   "source": [
    "df = pd.read_csv('yelp_final_full_p.csv')\n",
    "df.columns"
   ]
  },
  {
   "cell_type": "code",
   "execution_count": null,
   "metadata": {},
   "outputs": [],
   "source": [
    "sampled_df = df[['business_id','name','latitude','longitude','categories','postcode','new_neighborhood', 'county','description']].sample(n=200, random_state=42)\n",
    "sampled_df.columns"
   ]
  },
  {
   "cell_type": "code",
   "execution_count": null,
   "metadata": {},
   "outputs": [],
   "source": [
    "def generate_query(infor):\n",
    "    response = chain.invoke({\"input\": infor})\n",
    "    return response\n",
    "\n",
    "print(\"Start...\")\n",
    "sampled_df['question'] = sampled_df['description'].apply(generate_query)\n",
    "\n",
    "sampled_df.to_csv(output_file, index=False)\n",
    "print(f\"Finish, has been saved to {output_file}。\")"
   ]
  }
 ],
 "metadata": {
  "kernelspec": {
   "display_name": "langchain",
   "language": "python",
   "name": "python3"
  },
  "language_info": {
   "codemirror_mode": {
    "name": "ipython",
    "version": 3
   },
   "file_extension": ".py",
   "mimetype": "text/x-python",
   "name": "python",
   "nbconvert_exporter": "python",
   "pygments_lexer": "ipython3",
   "version": "3.10.13"
  }
 },
 "nbformat": 4,
 "nbformat_minor": 2
}
